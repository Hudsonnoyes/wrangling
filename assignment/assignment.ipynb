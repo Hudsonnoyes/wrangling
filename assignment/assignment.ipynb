{
  "cells": [
    {
      "cell_type": "markdown",
      "id": "13ad028b-72b7-43ed-aa78-96fd4e518040",
      "metadata": {
        "id": "13ad028b-72b7-43ed-aa78-96fd4e518040"
      },
      "source": [
        "# Assignment: Data Wrangling\n",
        "### `! git clone https://github.com/ds4e/wrangling`\n",
        "### Do Q1 and Q2, and either Q3 or Q4, for a total of 3 questions."
      ]
    },
    {
      "cell_type": "markdown",
      "id": "da879ea7-8aac-48a3-b6c2-daea56d2e072",
      "metadata": {
        "id": "da879ea7-8aac-48a3-b6c2-daea56d2e072"
      },
      "source": [
        "**Q1.** This question provides some practice cleaning variables which have common problems.\n",
        "1. Numeric variable: For `./data/airbnb_hw.csv`, clean the `Price` variable as well as you can, and explain the choices you make. How many missing values do you end up with? (Hint: What happens to the formatting when a price goes over 999 dollars, say from 675 to 1,112?)\n",
        "2. Categorical variable: For the Minnesota police use of for data, `./data/mn_police_use_of_force.csv`, clean the `subject_injury` variable, handling the NA's; this gives a value `Yes` when a person was injured by police, and `No` when no injury occurred. What proportion of the values are missing? Is this a concern? Cross-tabulate your cleaned `subject_injury` variable with the `force_type` variable. Are there any patterns regarding when the data are missing? \n",
        "3. Dummy variable: For the pretrial data covered in the lecture, clean the `WhetherDefendantWasReleasedPretrial` variable as well as you can, and, in particular, replace missing values with `np.nan`.\n",
        "4. Missing values, not at random: For the pretrial data covered in the lecture, clean the `ImposedSentenceAllChargeInContactEvent` variable as well as you can, and explain the choices you make. (Hint: Look at the `SentenceTypeAllChargesAtConvictionInContactEvent` variable.)"
      ]
    },
    {
      "cell_type": "markdown",
      "id": "5a60a44e",
      "metadata": {},
      "source": [
        "**Q2.** Go to https://sharkattackfile.net/ and download their dataset on shark attacks.\n",
        "\n",
        "1. Open the shark attack file using Pandas. It is probably not a csv file, so `read_csv` won't work.\n",
        "2. Drop any columns that do not contain data.\n",
        "3. Clean the year variable. Describe the range of values you see. Filter the rows to focus on attacks since 1940. Are attacks increasing, decreasing, or remaining constant over time?\n",
        "4. Clean the Age variable and make a histogram of the ages of the victims.\n",
        "5. What proportion of victims are male?\n",
        "6. Clean the `Type` variable so it only takes three values: Provoked and Unprovoked and Unknown. What proportion of attacks are unprovoked?\n",
        "7. Clean the `Fatal Y/N` variable so it only takes three values: Y, N, and Unknown.\n",
        "8. Are sharks more likely to launch unprovoked attacks on men or women? Is the attack more or less likely to be fatal when the attack is provoked or unprovoked? Is it more or less likely to be fatal when the victim is male or female? How do you feel about sharks?\n",
        "9. What proportion of attacks appear to be by white sharks? (Hint: `str.split()` makes a vector of text values into a list of lists, split by spaces.)"
      ]
    },
    {
      "cell_type": "markdown",
      "id": "5735a4d4-8be8-433a-a351-70eb8002e632",
      "metadata": {
        "id": "5735a4d4-8be8-433a-a351-70eb8002e632"
      },
      "source": [
        "**Q3.** Open the \"tidy_data.pdf\" document in the repo, which is a paper called Tidy Data by Hadley Wickham.\n",
        "\n",
        "  1. Read the abstract. What is this paper about?\n",
        "  2. Read the introduction. What is the \"tidy data standard\" intended to accomplish?\n",
        "  3. Read the intro to section 2. What does this sentence mean: \"Like families, tidy datasets are all alike but every messy dataset is messy in its own way.\" What does this sentence mean: \"For a given dataset, it’s usually easy to figure out what are observations and what are variables, but it is surprisingly difficult to precisely define variables and observations in general.\"\n",
        "  4. Read Section 2.2. How does Wickham define values, variables, and observations?\n",
        "  5. How is \"Tidy Data\" defined in section 2.3?\n",
        "  6. Read the intro to Section 3 and Section 3.1. What are the 5 most common problems with messy datasets? Why are the data in Table 4 messy? What is \"melting\" a dataset?\n",
        "  7. Why, specifically, is table 11 messy but table 12 tidy and \"molten\"?\n",
        "  8. Read Section 6. What is the \"chicken-and-egg\" problem with focusing on tidy data? What does Wickham hope happens in the future with further work on the subject of data wrangling?"
      ]
    },
    {
      "cell_type": "markdown",
      "id": "649494cd-cfd6-4f80-992a-9994fc19e1d5",
      "metadata": {
        "id": "649494cd-cfd6-4f80-992a-9994fc19e1d5"
      },
      "source": [
        "**Q4.** Many important datasets contain a race variable, typically limited to a handful of values often including Black, White, Asian, Latino, and Indigenous. This question looks at data gathering efforts on this variable by the U.S. Federal government.\n",
        "\n",
        "1. How did the most recent US Census gather data on race?\n",
        "2. Why do we gather these data? What role do these kinds of data play in politics and society? Why does data quality matter?\n",
        "3. Please provide a constructive criticism of how the Census was conducted: What was done well? What do you think was missing? How should future large scale surveys be adjusted to best reflect the diversity of the population? Could some of the Census' good practices be adopted more widely to gather richer and more useful data?\n",
        "4. How did the Census gather data on sex and gender? Please provide a similar constructive criticism of their practices.\n",
        "5. When it comes to cleaning data, what concerns do you have about protected characteristics like sex, gender, sexual identity, or race? What challenges can you imagine arising when there are missing values? What good or bad practices might people adopt, and why?\n",
        "6. Suppose someone invented an algorithm to impute values for protected characteristics like race, gender, sex, or sexuality. What kinds of concerns would you have?"
      ]
    }
  ],
  "metadata": {
    "colab": {
      "provenance": []
    },
    "kernelspec": {
      "display_name": "Python 3 (ipykernel)",
      "language": "python",
      "name": "python3"
    },
    "language_info": {
      "codemirror_mode": {
        "name": "ipython",
        "version": 3
      },
      "file_extension": ".py",
      "mimetype": "text/x-python",
      "name": "python",
      "nbconvert_exporter": "python",
      "pygments_lexer": "ipython3",
      "version": "3.10.4"
    }
  },
  "nbformat": 4,
  "nbformat_minor": 5
}
import pandas as pd
import numpy as np

# Load data
airbnb_df = pd.read_csv('./data/airbnb_hw.csv')
police_df = pd.read_csv('./data/mn_police_use_of_force.csv')
pretrial_df = pd.read_csv('./data/pretrial_data.csv')

# --- Numeric Variable: Cleaning Price ---
print(airbnb_df['Price'].head())
airbnb_df['Price'] = airbnb_df['Price'].astype(str).str.replace(',', '').str.replace('$', '').astype(float)
missing_before_price = airbnb_df['Price'].isna().sum()
airbnb_df['Price'].fillna(airbnb_df['Price'].median(), inplace=True)
missing_after_price = airbnb_df['Price'].isna().sum()
print(f"Missing values before cleaning (Price): {missing_before_price}")
print(f"Missing values after cleaning (Price): {missing_after_price}")

# --- Categorical Variable: Cleaning subject_injury ---
print(police_df['subject_injury'].value_counts(dropna=False))
def clean_injury(value):
    if pd.isna(value):
        return None
    elif str(value).strip().lower() in ['yes', 'injured', 'y']:
        return 'Yes'
    elif str(value).strip().lower() in ['no', 'not injured', 'n']:
        return 'No'
    return None
police_df['subject_injury_cleaned'] = police_df['subject_injury'].apply(clean_injury)
missing_proportion_injury = police_df['subject_injury_cleaned'].isna().mean()
print(f"Proportion of missing values (subject injury): {missing_proportion_injury:.2%}")
crosstab_injury = pd.crosstab(police_df['subject_injury_cleaned'], police_df['force_type'])
print(crosstab_injury)
missing_pattern_injury = police_df[police_df['subject_injury_cleaned'].isna()]['force_type'].value_counts()
print("Missing data patterns by force type:")
print(missing_pattern_injury)

# --- Dummy Variable: Cleaning WhetherDefendantWasReleasedPretrial ---
print(pretrial_df['WhetherDefendantWasReleasedPretrial'].value_counts(dropna=False))
def clean_release(value):
    if pd.isna(value):
        return np.nan
    value_str = str(value).strip().lower()
    if value_str in ['yes', 'released', 'y']:
        return 1
    elif value_str in ['no', 'not released', 'n']:
        return 0
    return np.nan
pretrial_df['Released_Pretrial'] = pretrial_df['WhetherDefendantWasReleasedPretrial'].apply(clean_release)
print(pretrial_df['Released_Pretrial'].value_counts(dropna=False))

# --- Missing Values Not at Random: Cleaning ImposedSentenceAllChargeInContactEvent ---
print(pretrial_df['ImposedSentenceAllChargeInContactEvent'].value_counts(dropna=False))
print(pretrial_df['SentenceTypeAllChargesAtConvictionInContactEvent'].value_counts(dropna=False))
def clean_sentence(imposed_sentence, sentence_type):
    if pd.isna(imposed_sentence):
        if pd.isna(sentence_type) or sentence_type.lower() == 'no conviction':
            return 'No Sentence'
        else:
            return np.nan
    return imposed_sentence.strip()
pretrial_df['Cleaned_Imposed_Sentence'] = pretrial_df.apply(
    lambda row: clean_sentence(row['ImposedSentenceAllChargeInContactEvent'], row['SentenceTypeAllChargesAtConvictionInContactEvent']), axis=1)
missing_before_sentence = pretrial_df['ImposedSentenceAllChargeInContactEvent'].isna().sum()
missing_after_sentence = pretrial_df['Cleaned_Imposed_Sentence'].isna().sum()
print(f"Missing values before cleaning (Imposed Sentence): {missing_before_sentence}")
print(f"Missing values after cleaning (Imposed Sentence): {missing_after_sentence}")
print(pretrial_df['Cleaned_Imposed_Sentence'].value_counts(dropna=False))
