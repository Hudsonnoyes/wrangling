{
  "cells": [
    {
      "cell_type": "markdown",
      "id": "13ad028b-72b7-43ed-aa78-96fd4e518040",
      "metadata": {
        "id": "13ad028b-72b7-43ed-aa78-96fd4e518040"
      },
      "source": [
        "# Assignment: Data Wrangling\n",
        "### `! git clone https://github.com/ds4e/wrangling`\n",
        "### Do Q1 and Q2, and either Q3 or Q4, for a total of 3 questions."
      ]
    },
    {
      "cell_type": "markdown",
      "id": "da879ea7-8aac-48a3-b6c2-daea56d2e072",
      "metadata": {
        "id": "da879ea7-8aac-48a3-b6c2-daea56d2e072"
      },
      "source": [
        "**Q1.** This question provides some practice cleaning variables which have common problems.\n",
        "1. Numeric variable: For `./data/airbnb_hw.csv`, clean the `Price` variable as well as you can, and explain the choices you make. How many missing values do you end up with? (Hint: What happens to the formatting when a price goes over 999 dollars, say from 675 to 1,112?)\n",
        "2. Categorical variable: For the Minnesota police use of for data, `./data/mn_police_use_of_force.csv`, clean the `subject_injury` variable, handling the NA's; this gives a value `Yes` when a person was injured by police, and `No` when no injury occurred. What proportion of the values are missing? Is this a concern? Cross-tabulate your cleaned `subject_injury` variable with the `force_type` variable. Are there any patterns regarding when the data are missing?\n",
        "3. Dummy variable: For the pretrial data covered in the lecture, clean the `WhetherDefendantWasReleasedPretrial` variable as well as you can, and, in particular, replace missing values with `np.nan`.\n",
        "4. Missing values, not at random: For the pretrial data covered in the lecture, clean the `ImposedSentenceAllChargeInContactEvent` variable as well as you can, and explain the choices you make. (Hint: Look at the `SentenceTypeAllChargesAtConvictionInContactEvent` variable.)"
      ]
    },
    {
      "cell_type": "code",
      "source": [
        "import pandas as pd\n",
        "import numpy as np\n",
        "\n",
        "\n",
        "\n",
        "\n",
        "# Used colab AI for assistance in code\n",
        "\n",
        "\n",
        "\n",
        "airbnb_df = pd.read_csv('airbnb_hw.csv')\n",
        "\n",
        "# Numeric variable: Cleaning 'Price' column\n",
        "airbnb_df['Price'] = airbnb_df['Price'].astype(str).str.replace(',', '').str.replace('$', '').astype(float)\n",
        "missing_price = airbnb_df['Price'].isna().sum()\n",
        "print(f\"Missing values in Price: {missing_price}\")\n",
        "\n",
        "# Categorical variable: Cleaning 'subject_injury' in Minnesota police dataset\n",
        "\n",
        "file_path = \"/mnt/data/mn_police_use_of_force.csv\"\n",
        "police_df = pd.read_csv('mn_police_use_of_force.csv')\n",
        "police_df['subject_injury'] = police_df['subject_injury'].str.strip().str.lower()\n",
        "police_df['subject_injury'] = police_df['subject_injury'].map({'yes': 'Yes', 'no': 'No'})\n",
        "missing_injury = police_df['subject_injury'].isna().sum()\n",
        "proportion_missing_injury = missing_injury / len(police_df)\n",
        "print(f\"Proportion of missing subject_injury: {proportion_missing_injury:.2%}\")\n",
        "\n",
        "# Cross-tabulation with force_type\n",
        "crosstab_result = pd.crosstab(police_df['subject_injury'], police_df['force_type'])\n",
        "print(crosstab_result)\n",
        "\n",
        "# Dummy variable: Cleaning 'WhetherDefendantWasReleasedPretrial' in pretrial data\n",
        "\n",
        "file_path = \"/mnt/data/pretrial_data.csv\"\n",
        "pretrial_df = pd.read_csv('pretrial_data.csv')\n",
        "\n",
        "\n",
        "def clean_release(value):\n",
        "    if pd.isna(value):\n",
        "        return np.nan\n",
        "    value_str = str(value).strip().lower()\n",
        "    if value_str in ['yes', 'released', 'y']:\n",
        "        return 1\n",
        "    elif value_str in ['no', 'not released', 'n']:\n",
        "        return 0\n",
        "    return np.nan\n",
        "\n",
        "\n",
        "\n",
        "# --- Missing Values Not at Random: Cleaning sentence ---\n",
        "print(pretrial_df['sentence'].value_counts(dropna=False))\n",
        "print(pretrial_df['sentence_type'].value_counts(dropna=False))\n",
        "def clean_sentence(imposed_sentence, sentence_type):\n",
        "    if pd.isna(imposed_sentence):\n",
        "        if pd.isna(sentence_type) or sentence_type.lower() == 'no conviction':\n",
        "            return 'No Sentence'\n",
        "        else:\n",
        "            return np.nan\n",
        "\n",
        "pretrial_df['Cleaned_Imposed_Sentence'] = pretrial_df.apply(\n",
        "    lambda row: clean_sentence(row['sentence'], row['sentence_type']), axis=1)\n",
        "missing_before_sentence = pretrial_df['sentence'].isna().sum()\n",
        "missing_after_sentence = pretrial_df['Cleaned_Imposed_Sentence'].isna().sum()\n",
        "print(f\"Missing values before cleaning (Imposed Sentence): {missing_before_sentence}\")\n",
        "print(f\"Missing values after cleaning (Imposed Sentence): {missing_after_sentence}\")\n",
        "print(pretrial_df['Cleaned_Imposed_Sentence'].value_counts(dropna=False))\n"
      ],
      "metadata": {
        "colab": {
          "base_uri": "https://localhost:8080/"
        },
        "id": "R87NbWLYoTHK",
        "outputId": "109f240e-6574-44ac-b182-eb509fa338db"
      },
      "id": "R87NbWLYoTHK",
      "execution_count": 28,
      "outputs": [
        {
          "output_type": "stream",
          "name": "stdout",
          "text": [
            "Missing values in Price: 0\n",
            "Proportion of missing subject_injury: 76.19%\n",
            "force_type      Baton  Bodily Force  Chemical Irritant  Firearm  \\\n",
            "subject_injury                                                    \n",
            "No                  0          1093                131        2   \n",
            "Yes                 2          1286                 41        0   \n",
            "\n",
            "force_type      Gun Point Display  Improvised Weapon  Less Lethal Projectile  \\\n",
            "subject_injury                                                                 \n",
            "No                             33                 34                       1   \n",
            "Yes                            44                 40                       2   \n",
            "\n",
            "force_type      Police K9 Bite  Taser  \n",
            "subject_injury                         \n",
            "No                           2    150  \n",
            "Yes                         44    172  \n",
            "sentence\n",
            "0.000000     13732\n",
            "12.000000     1404\n",
            "0.985626      1051\n",
            "6.000000       809\n",
            "3.000000       787\n",
            "             ...  \n",
            "49.971253        1\n",
            "57.034908        1\n",
            "79.926078        1\n",
            "42.164271        1\n",
            "1.657084         1\n",
            "Name: count, Length: 484, dtype: int64\n",
            "sentence_type\n",
            "4.0    8779\n",
            "0.0    8720\n",
            "1.0    4299\n",
            "2.0     914\n",
            "NaN     274\n",
            "Name: count, dtype: int64\n",
            "Missing values before cleaning (Imposed Sentence): 274\n",
            "Missing values after cleaning (Imposed Sentence): 22712\n",
            "Cleaned_Imposed_Sentence\n",
            "None           22712\n",
            "No Sentence      274\n",
            "Name: count, dtype: int64\n"
          ]
        }
      ]
    },
    {
      "cell_type": "markdown",
      "id": "5a60a44e",
      "metadata": {
        "id": "5a60a44e"
      },
      "source": [
        "**Q2.** Go to https://sharkattackfile.net/ and download their dataset on shark attacks.\n",
        "\n",
        "1. Open the shark attack file using Pandas. It is probably not a csv file, so `read_csv` won't work.\n",
        "2. Drop any columns that do not contain data.\n",
        "3. Clean the year variable. Describe the range of values you see. Filter the rows to focus on attacks since 1940. Are attacks increasing, decreasing, or remaining constant over time?\n",
        "4. Clean the Age variable and make a histogram of the ages of the victims.\n",
        "5. What proportion of victims are male?\n",
        "6. Clean the `Type` variable so it only takes three values: Provoked and Unprovoked and Unknown. What proportion of attacks are unprovoked?\n",
        "7. Clean the `Fatal Y/N` variable so it only takes three values: Y, N, and Unknown.\n",
        "8. Are sharks more likely to launch unprovoked attacks on men or women? Is the attack more or less likely to be fatal when the attack is provoked or unprovoked? Is it more or less likely to be fatal when the victim is male or female? How do you feel about sharks?\n",
        "9. What proportion of attacks appear to be by white sharks? (Hint: `str.split()` makes a vector of text values into a list of lists, split by spaces.)"
      ]
    },
    {
      "cell_type": "code",
      "source": [
        "import pandas as pd\n",
        "import numpy as np\n",
        "\n",
        "# Done with assistance from Colab AI\n",
        "# Load the dataset (assuming it's in the same directory as the notebook)\n",
        "try:\n",
        "    df = pd.read_excel('GSAF5.xls')\n",
        "except FileNotFoundError:\n",
        "    print(\"Error: 'GSAF5.xls' not found. Please upload the file to your Colab environment.\")\n",
        "    df = None\n",
        "\n",
        "\n",
        "if df is not None:\n",
        "    # 2. Drop columns with no data\n",
        "    df = df.dropna(axis=1, how='all')\n",
        "\n",
        "    # 3. Clean the year variable\n",
        "    df['Year'] = pd.to_numeric(df['Year'], errors='coerce').astype('Int64') # Use Int64 to handle potential NaN values\n",
        "    print(\"Year Range:\", df['Year'].min(), \"-\", df['Year'].max())\n",
        "    df = df[df['Year'] >= 1940]\n",
        "\n",
        "    #Attacks over time (you might want to plot this for a better visualization)\n",
        "    attacks_per_year = df.groupby('Year').size().reset_index(name='counts')\n",
        "    print(\"\\nAttacks per year (since 1940):\\n\", attacks_per_year)\n",
        "\n",
        "\n",
        "    # 4. Clean the Age variable and make a histogram\n",
        "    df['Age'] = pd.to_numeric(df['Age'], errors='coerce')\n",
        "    df['Age'].plot(kind='hist')\n",
        "\n",
        "\n",
        "    # 5. Proportion of male victims\n",
        "    proportion_male = df['Sex'].value_counts(normalize=True).get('M', 0)\n",
        "    print(f\"\\nProportion of male victims: {proportion_male:.2%}\")\n",
        "\n",
        "    # 6. Clean the Type variable\n",
        "    df['Type'] = df['Type'].str.strip().str.lower()\n",
        "    def clean_type(x):\n",
        "        if pd.isna(x):\n",
        "          return 'Unknown'\n",
        "        elif 'provoked' in x:\n",
        "            return 'Provoked'\n",
        "        elif 'unprovoked' in x:\n",
        "            return 'Unprovoked'\n",
        "        else:\n",
        "            return 'Unknown'\n",
        "    df['Type'] = df['Type'].apply(clean_type)\n",
        "    proportion_unprovoked = df['Type'].value_counts(normalize=True).get('Unprovoked', 0)\n",
        "    print(f\"\\nProportion of unprovoked attacks: {proportion_unprovoked:.2%}\")\n",
        "\n",
        "\n",
        "    # 7. Clean the Fatal Y/N variable\n",
        "    df['Fatal Y/N'] = df['Fatal Y/N'].str.strip().str.upper()\n",
        "    def clean_fatal(x):\n",
        "      if pd.isna(x) :\n",
        "        return 'Unknown'\n",
        "      elif x in ('Y', 'N'):\n",
        "        return x\n",
        "      else:\n",
        "        return 'Unknown'\n",
        "    df['Fatal Y/N'] = df['Fatal Y/N'].apply(clean_fatal)\n",
        "\n",
        "    # 8. Analysis of attack likelihood and fatality based on gender and provocation\n",
        "    # (You can use cross-tabulation or other statistical methods here)\n",
        "    print(\"\\nAnalysis of attack likelihood and fatality (requires further analysis):\")\n",
        "\n",
        "    # 9. Proportion of attacks by white sharks\n",
        "    proportion_white_shark = df['Species '].str.contains('White', na=False, case=False).mean()\n",
        "    print(f\"\\nProportion of attacks by white sharks: {proportion_white_shark:.2%}\")\n"
      ],
      "metadata": {
        "colab": {
          "base_uri": "https://localhost:8080/",
          "height": 876
        },
        "id": "RUPluLJStU9C",
        "outputId": "d0eac78d-e315-4687-8bf2-d9232414b94b"
      },
      "id": "RUPluLJStU9C",
      "execution_count": 34,
      "outputs": [
        {
          "output_type": "stream",
          "name": "stdout",
          "text": [
            "Year Range: 0 - 2026\n",
            "\n",
            "Attacks per year (since 1940):\n",
            "     Year  counts\n",
            "0   1940      24\n",
            "1   1941      27\n",
            "2   1942      41\n",
            "3   1943      28\n",
            "4   1944      31\n",
            "..   ...     ...\n",
            "82  2022      98\n",
            "83  2023     109\n",
            "84  2024      49\n",
            "85  2025       6\n",
            "86  2026       1\n",
            "\n",
            "[87 rows x 2 columns]\n",
            "\n",
            "Proportion of male victims: 85.80%\n",
            "\n",
            "Proportion of unprovoked attacks: 0.00%\n",
            "\n",
            "Analysis of attack likelihood and fatality (requires further analysis):\n",
            "\n",
            "Proportion of attacks by white sharks: 12.88%\n"
          ]
        },
        {
          "output_type": "display_data",
          "data": {
            "text/plain": [
              "<Figure size 640x480 with 1 Axes>"
            ],
            "image/png": "[encoded data removed]"
          },
          "metadata": {}
        }
      ]
    },
    {
      "cell_type": "code",
      "source": [],
      "metadata": {
        "id": "TQQz2DFrtO5f"
      },
      "id": "TQQz2DFrtO5f",
      "execution_count": null,
      "outputs": []
    },
    {
      "cell_type": "code",
      "source": [],
      "metadata": {
        "id": "Pa85Hk6-tOrr"
      },
      "id": "Pa85Hk6-tOrr",
      "execution_count": null,
      "outputs": []
    },
    {
      "cell_type": "markdown",
      "id": "5735a4d4-8be8-433a-a351-70eb8002e632",
      "metadata": {
        "id": "5735a4d4-8be8-433a-a351-70eb8002e632"
      },
      "source": [
        "**Q3.** Open the \"tidy_data.pdf\" document in the repo, which is a paper called Tidy Data by Hadley Wickham.\n",
        "\n",
        "  1. Read the abstract. What is this paper about?\n",
        "  This paper is about tidy datasets, and how to tidy data efficiently.\n",
        "  2. Read the introduction. What is the \"tidy data standard\" intended to accomplish?\n",
        "  It attempts to make it easier to clean data by having set standards, as well as making analysis of tidy data easier.\n",
        "  3. Read the intro to section 2. What does this sentence mean: \"Like families, tidy datasets are all alike but every messy dataset is messy in its own way.\" What does this sentence mean: \"For a given dataset, it’s usually easy to figure out what are observations and what are variables, but it is surprisingly difficult to precisely define variables and observations in general.\"\n",
        "  The first sentence means that all tidy datasets are alike, which makes them much easier to work with. All untidy datasets are different, meaning that each time you work with a new one there will be new challenges.\n",
        "  The second sentence means that identifying observations vs variables tends to be easy, but finding the meaning of these things within the context of the dataset is much harder.\n",
        "  4. Read Section 2.2. How does Wickham define values, variables, and observations?\n",
        "  He defines values as belonging to either variables or observations. He defines a variable as values that measure the same attribute. He defines observations as values measured across the same unit, like a person for example.\n",
        "  5. How is \"Tidy Data\" defined in section 2.3?\n",
        "  Tidy data happens when each variable forms a column, each observation forms a row, and each type of observational unit forms a table.\n",
        "  6. Read the intro to Section 3 and Section 3.1. What are the 5 most common problems with messy datasets? Why are the data in Table 4 messy? What is \"melting\" a dataset?\n",
        "  The five most common problems are that column headers are values not variable names, multiple variables being stored in the same column, variables being stored in both rows and columns, multiple types of observational units in the same table, and a single observational unit in multiple tables. The dataset is messy because there are three variables, and some of the variables are not represented by one column. Melting is turning columns into rows.\n",
        "  7. Why, specifically, is table 11 messy but table 12 tidy and \"molten\"?\n",
        "  Table 11 is messy because each observation, or day in this case, does not have its own row.\n",
        "  8. Read Section 6. What is the \"chicken-and-egg\" problem with focusing on tidy data? What does Wickham hope happens in the future with further work on the subject of data wrangling?\n",
        "  If tidy data is only as useful as the tools that work with it, then tidy tools will be heavilt linked to tidy data. Wickham hopes that tidy data will lead to a better solution for data wrangling in the future."
      ]
    },
    {
      "cell_type": "markdown",
      "id": "649494cd-cfd6-4f80-992a-9994fc19e1d5",
      "metadata": {
        "id": "649494cd-cfd6-4f80-992a-9994fc19e1d5"
      },
      "source": [
        "**Q4.** Many important datasets contain a race variable, typically limited to a handful of values often including Black, White, Asian, Latino, and Indigenous. This question looks at data gathering efforts on this variable by the U.S. Federal government.\n",
        "\n",
        "1. How did the most recent US Census gather data on race?\n",
        "2. Why do we gather these data? What role do these kinds of data play in politics and society? Why does data quality matter?\n",
        "3. Please provide a constructive criticism of how the Census was conducted: What was done well? What do you think was missing? How should future large scale surveys be adjusted to best reflect the diversity of the population? Could some of the Census' good practices be adopted more widely to gather richer and more useful data?\n",
        "4. How did the Census gather data on sex and gender? Please provide a similar constructive criticism of their practices.\n",
        "5. When it comes to cleaning data, what concerns do you have about protected characteristics like sex, gender, sexual identity, or race? What challenges can you imagine arising when there are missing values? What good or bad practices might people adopt, and why?\n",
        "6. Suppose someone invented an algorithm to impute values for protected characteristics like race, gender, sex, or sexuality. What kinds of concerns would you have?"
      ]
    }
  ],
  "metadata": {
    "colab": {
      "provenance": []
    },
    "kernelspec": {
      "display_name": "Python 3 (ipykernel)",
      "language": "python",
      "name": "python3"
    },
    "language_info": {
      "codemirror_mode": {
        "name": "ipython",
        "version": 3
      },
      "file_extension": ".py",
      "mimetype": "text/x-python",
      "name": "python",
      "nbconvert_exporter": "python",
      "pygments_lexer": "ipython3",
      "version": "3.10.4"
    }
  },
  "nbformat": 4,
  "nbformat_minor": 5
}